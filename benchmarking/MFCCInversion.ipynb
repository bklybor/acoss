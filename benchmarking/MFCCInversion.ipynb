{
 "cells": [
  {
   "cell_type": "code",
   "execution_count": 19,
   "metadata": {},
   "outputs": [],
   "source": [
    "import numpy as np\n",
    "import matplotlib.pyplot as plt\n",
    "import librosa\n",
    "import soundfile as sf"
   ]
  },
  {
   "cell_type": "code",
   "execution_count": 24,
   "metadata": {},
   "outputs": [
    {
     "name": "stderr",
     "output_type": "stream",
     "text": [
      "/home/ctralie/anaconda3/lib/python3.7/site-packages/librosa/core/audio.py:146: UserWarning: PySoundFile failed. Trying audioread instead.\n",
      "  warnings.warn('PySoundFile failed. Trying audioread instead.')\n"
     ]
    }
   ],
   "source": [
    "y, sr = librosa.load('InvisibleSun.mp3', offset=60+12, duration=10)\n",
    "\n",
    "feats = CoverAlgorithm.load_features(f, 10)\n",
    "hpcp_orig = feats['crema']\n",
    "mfcc_orig = feats['mfcc_htk']\n",
    "\n",
    "mfccs = librosa.feature.mfcc(y=y, sr=sr, n_mfcc=20)\n",
    "\n",
    "yrec = librosa.feature.inverse.mfcc_to_audio(mfccs)\n",
    "sf.write('sunorig.wav', y, sr)\n",
    "sf.write('sunmel.wav', yrec, sr)"
   ]
  },
  {
   "cell_type": "code",
   "execution_count": 42,
   "metadata": {},
   "outputs": [],
   "source": [
    "hop_length = 256\n",
    "bins_per_octave = 12 * 3\n",
    "C = librosa.cqt(y=y, sr=sr, hop_length=hop_length, n_bins=7*bins_per_octave, bins_per_octave=bins_per_octave)\n",
    "#C = np.abs(C)\n",
    "#C = librosa.core.griffinlim_cqt(C, sr=sr, hop_length=hop_length,  bins_per_octave=bins_per_octave)\n",
    "y_hat = librosa.icqt(C=C, sr=sr, hop_length=hop_length,bins_per_octave=bins_per_octave)\n",
    "sf.write('suncqt.wav', y_hat, sr)"
   ]
  },
  {
   "cell_type": "code",
   "execution_count": null,
   "metadata": {},
   "outputs": [],
   "source": []
  }
 ],
 "metadata": {
  "kernelspec": {
   "display_name": "Python 3",
   "language": "python",
   "name": "python3"
  },
  "language_info": {
   "codemirror_mode": {
    "name": "ipython",
    "version": 3
   },
   "file_extension": ".py",
   "mimetype": "text/x-python",
   "name": "python",
   "nbconvert_exporter": "python",
   "pygments_lexer": "ipython3",
   "version": "3.7.4"
  }
 },
 "nbformat": 4,
 "nbformat_minor": 2
}
