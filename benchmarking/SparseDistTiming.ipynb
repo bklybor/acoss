{
 "cells": [
  {
   "cell_type": "code",
   "execution_count": 16,
   "metadata": {},
   "outputs": [
    {
     "name": "stdout",
     "output_type": "stream",
     "text": [
      "0\n",
      "200\n",
      "400\n",
      "600\n",
      "800\n",
      "1000\n",
      "1200\n",
      "1400\n",
      "1600\n",
      "1800\n",
      "2000\n",
      "2200\n",
      "2400\n",
      "2600\n",
      "2800\n",
      "3000\n",
      "3200\n",
      "3400\n",
      "3600\n",
      "3800\n",
      "4000\n",
      "4200\n",
      "4400\n",
      "4600\n",
      "4800\n",
      "5000\n",
      "5200\n",
      "5400\n",
      "5600\n",
      "5800\n",
      "6000\n",
      "6200\n",
      "6400\n",
      "6600\n",
      "6800\n",
      "7000\n",
      "7200\n",
      "7400\n",
      "7600\n",
      "7800\n",
      "8000\n",
      "8200\n",
      "8400\n",
      "8600\n",
      "8800\n",
      "9000\n",
      "9200\n",
      "9400\n",
      "9600\n",
      "9800\n",
      "10000\n",
      "10200\n",
      "10400\n",
      "10600\n",
      "10800\n",
      "11000\n",
      "11200\n",
      "11400\n",
      "11600\n",
      "11800\n",
      "12000\n",
      "12200\n",
      "12400\n",
      "12600\n",
      "12800\n",
      "13000\n",
      "13200\n",
      "13400\n",
      "13600\n",
      "13800\n",
      "14000\n",
      "14200\n",
      "14400\n",
      "14600\n",
      "14800\n"
     ]
    }
   ],
   "source": [
    "import numpy as np\n",
    "import matplotlib.pyplot as plt\n",
    "from scipy import sparse\n",
    "\n",
    "PAD_LEN = 2000\n",
    "\n",
    "def all_pairwise(N):\n",
    "    d = PAD_LEN*5\n",
    "    I = (np.arange(N)[:, None]*np.ones((1, d))).flatten()\n",
    "    I = np.array(I, dtype=int)\n",
    "    J = np.zeros_like(I)\n",
    "    nmodes = PAD_LEN*PAD_LEN\n",
    "    arr = np.arange(nmodes)\n",
    "    for i in range(N):\n",
    "        if i%200 == 0:\n",
    "            print(i)\n",
    "        for k in range(d):\n",
    "            idx = np.random.randint(k, nmodes)\n",
    "            temp = arr[idx]\n",
    "            arr[idx] = arr[k]\n",
    "            arr[k] = temp\n",
    "        J[i*d:(i+1)*d] = arr[0:d]\n",
    "    V = np.random.randn(I.size)\n",
    "    X = sparse.coo_matrix((V, (I, J)), shape=(N, nmodes))\n",
    "    return X\n",
    "    \n",
    "X = all_pairwise(15000)\n"
   ]
  },
  {
   "cell_type": "code",
   "execution_count": 17,
   "metadata": {},
   "outputs": [
    {
     "name": "stdout",
     "output_type": "stream",
     "text": [
      "Elapsed Time All Pairwise Fast: 153\n"
     ]
    }
   ],
   "source": [
    "import time\n",
    "tic = time.time()\n",
    "XSqr = X.power(2)\n",
    "XSqr = np.array(np.sum(XSqr, 1)).flatten()\n",
    "DsSqr = XSqr[:, None] + XSqr[None, :] - 2*(X.dot(X.T)).toarray()\n",
    "Ds = np.exp(-DsSqr)\n",
    "print(\"Elapsed Time All Pairwise Fast: %.3g\"%(time.time()-tic))"
   ]
  },
  {
   "cell_type": "code",
   "execution_count": null,
   "metadata": {},
   "outputs": [],
   "source": []
  }
 ],
 "metadata": {
  "kernelspec": {
   "display_name": "Python 3",
   "language": "python",
   "name": "python3"
  },
  "language_info": {
   "codemirror_mode": {
    "name": "ipython",
    "version": 3
   },
   "file_extension": ".py",
   "mimetype": "text/x-python",
   "name": "python",
   "nbconvert_exporter": "python",
   "pygments_lexer": "ipython3",
   "version": "3.7.1"
  }
 },
 "nbformat": 4,
 "nbformat_minor": 2
}
