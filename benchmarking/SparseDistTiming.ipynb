{
 "cells": [
  {
   "cell_type": "code",
   "execution_count": 4,
   "metadata": {},
   "outputs": [
    {
     "name": "stdout",
     "output_type": "stream",
     "text": [
      "0\n",
      "200\n",
      "400\n",
      "600\n",
      "800\n"
     ]
    }
   ],
   "source": [
    "import numpy as np\n",
    "import matplotlib.pyplot as plt\n",
    "from scipy import sparse\n",
    "\n",
    "PAD_LEN = 2000\n",
    "\n",
    "def all_pairwise(N):\n",
    "    d = PAD_LEN*5\n",
    "    I = (np.arange(N)[:, None]*np.ones((1, d))).flatten()\n",
    "    I = np.array(I, dtype=int)\n",
    "    J = np.zeros_like(I)\n",
    "    arr = np.arange(N*N)\n",
    "    for i in range(N):\n",
    "        if i%200 == 0:\n",
    "            print(i)\n",
    "        np.random.shuffle(arr)\n",
    "        J[i*d:(i+1)*d] = arr[0:d]\n",
    "    V = np.random.randn(I.size)\n",
    "    X = sparse.coo_matrix((V, (I, J)), shape=(N, N*N))\n",
    "    return X\n",
    "    \n",
    "X = all_pairwise(1000)\n"
   ]
  },
  {
   "cell_type": "code",
   "execution_count": null,
   "metadata": {},
   "outputs": [],
   "source": [
    "tic = time.time()\n",
    "XSqr = X.power(2)\n",
    "XSqr = np.array(np.sum(XSqr, 1)).flatten()\n",
    "DsSqr = XSqr[:, None] + XSqr[None, :] - 2*(X.dot(X.T)).toarray()\n",
    "self.Ds['main'] = np.exp(-DsSqr)\n",
    "print(\"Elapsed Time All Pairwise Fast: %.3g\"%(time.time()-tic))"
   ]
  }
 ],
 "metadata": {
  "kernelspec": {
   "display_name": "Python 3",
   "language": "python",
   "name": "python3"
  },
  "language_info": {
   "codemirror_mode": {
    "name": "ipython",
    "version": 3
   },
   "file_extension": ".py",
   "mimetype": "text/x-python",
   "name": "python",
   "nbconvert_exporter": "python",
   "pygments_lexer": "ipython3",
   "version": "3.7.1"
  }
 },
 "nbformat": 4,
 "nbformat_minor": 2
}
